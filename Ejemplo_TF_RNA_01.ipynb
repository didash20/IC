{
  "nbformat": 4,
  "nbformat_minor": 0,
  "metadata": {
    "colab": {
      "name": "Ejemplo_TF_RNA_01.ipynb",
      "provenance": [],
      "authorship_tag": "ABX9TyM1udmyErcNIvg1UD1kehHk",
      "include_colab_link": true
    },
    "kernelspec": {
      "name": "python3",
      "display_name": "Python 3"
    }
  },
  "cells": [
    {
      "cell_type": "markdown",
      "metadata": {
        "id": "view-in-github",
        "colab_type": "text"
      },
      "source": [
        "<a href=\"https://colab.research.google.com/github/didash20/IC/blob/main/Ejemplo_TF_RNA_01.ipynb\" target=\"_parent\"><img src=\"https://colab.research.google.com/assets/colab-badge.svg\" alt=\"Open In Colab\"/></a>"
      ]
    },
    {
      "cell_type": "code",
      "metadata": {
        "colab": {
          "base_uri": "https://localhost:8080/"
        },
        "id": "eJ7ndvf_lJnp",
        "outputId": "8781d254-d995-4365-c93d-09eafe6f2d1f"
      },
      "source": [
        "import tensorflow.compat.v1 as tf\r\n",
        "tf.disable_v2_behavior()"
      ],
      "execution_count": 1,
      "outputs": [
        {
          "output_type": "stream",
          "text": [
            "WARNING:tensorflow:From /usr/local/lib/python3.7/dist-packages/tensorflow/python/compat/v2_compat.py:96: disable_resource_variables (from tensorflow.python.ops.variable_scope) is deprecated and will be removed in a future version.\n",
            "Instructions for updating:\n",
            "non-resource variables are not supported in the long term\n"
          ],
          "name": "stdout"
        }
      ]
    },
    {
      "cell_type": "code",
      "metadata": {
        "id": "nfizrNzAnhNV"
      },
      "source": [
        "T = 1.0\r\n",
        "F = 0.0\r\n",
        "bias = 1.0"
      ],
      "execution_count": 2,
      "outputs": []
    },
    {
      "cell_type": "code",
      "metadata": {
        "id": "2cz4LzZBnr1L"
      },
      "source": [
        "def get_AND_data():\r\n",
        "  X = [\r\n",
        "       [F, F, bias],\r\n",
        "       [F, T, bias],\r\n",
        "       [T, F, bias],\r\n",
        "       [T, T, bias]\r\n",
        "  ]\r\n",
        "\r\n",
        "  Y = [\r\n",
        "       [F],\r\n",
        "       [F],\r\n",
        "       [F],\r\n",
        "       [T]\r\n",
        "  ]\r\n",
        "\r\n",
        "  return X, Y"
      ],
      "execution_count": 3,
      "outputs": []
    },
    {
      "cell_type": "code",
      "metadata": {
        "id": "HeEkApbdpW6q"
      },
      "source": [
        "X, Y = get_AND_data()"
      ],
      "execution_count": 4,
      "outputs": []
    },
    {
      "cell_type": "code",
      "metadata": {
        "id": "IU3R9w4Cp9Y9"
      },
      "source": [
        "W = tf.Variable(tf.random_normal([3,1]))"
      ],
      "execution_count": 5,
      "outputs": []
    },
    {
      "cell_type": "code",
      "metadata": {
        "colab": {
          "base_uri": "https://localhost:8080/"
        },
        "id": "3OrcnMC-qmuV",
        "outputId": "a969093e-5acd-4b3b-b8e2-ac9e2aabead7"
      },
      "source": [
        "W.shape"
      ],
      "execution_count": 6,
      "outputs": [
        {
          "output_type": "execute_result",
          "data": {
            "text/plain": [
              "TensorShape([Dimension(3), Dimension(1)])"
            ]
          },
          "metadata": {
            "tags": []
          },
          "execution_count": 6
        }
      ]
    },
    {
      "cell_type": "code",
      "metadata": {
        "id": "YbSJpSjZq1tN"
      },
      "source": [
        "def step(x):\r\n",
        "  return tf.to_float(tf.greater(x,0))"
      ],
      "execution_count": 7,
      "outputs": []
    },
    {
      "cell_type": "code",
      "metadata": {
        "colab": {
          "base_uri": "https://localhost:8080/"
        },
        "id": "AsRh4XWNsWO3",
        "outputId": "732aeb78-2726-449d-bdaa-71ea34184533"
      },
      "source": [
        "f = tf.matmul(X,W)\r\n",
        "output = step(f)\r\n",
        "error = tf.subtract(Y, output)\r\n",
        "mse = tf.reduce_mean(tf.square(error))"
      ],
      "execution_count": 8,
      "outputs": [
        {
          "output_type": "stream",
          "text": [
            "WARNING:tensorflow:From <ipython-input-7-9fcfb204922d>:2: to_float (from tensorflow.python.ops.math_ops) is deprecated and will be removed in a future version.\n",
            "Instructions for updating:\n",
            "Use `tf.cast` instead.\n"
          ],
          "name": "stdout"
        }
      ]
    },
    {
      "cell_type": "code",
      "metadata": {
        "id": "Fy00xCUTvyrH"
      },
      "source": [
        "delta = tf.matmul(X, error, transpose_a=True)\r\n",
        "train = tf.assign(W, tf.add(W, delta))"
      ],
      "execution_count": 9,
      "outputs": []
    },
    {
      "cell_type": "code",
      "metadata": {
        "colab": {
          "base_uri": "https://localhost:8080/"
        },
        "id": "dMRGhFxoxkuw",
        "outputId": "6d637f8d-24fb-4f12-929a-aadd60396ef1"
      },
      "source": [
        "init = tf.global_variables_initializer()\r\n",
        "\r\n",
        "with tf.Session() as sess:\r\n",
        "  sess.run(init)\r\n",
        "  err = 1\r\n",
        "  epoch, max_epochs = 0, 20\r\n",
        "  while err> 0.0 and epoch < max_epochs:\r\n",
        "    epoch += 1\r\n",
        "    err = sess.run(mse)\r\n",
        "    sess.run(train)\r\n",
        "    print('epoch: ', epoch, 'mse: ', err)\r\n",
        "\r\n",
        "    print(\"\\nResultado de Prueba\")\r\n",
        "    print(sess.run([output]))"
      ],
      "execution_count": 10,
      "outputs": [
        {
          "output_type": "stream",
          "text": [
            "epoch:  1 mse:  0.5\n",
            "\n",
            "Resultado de Prueba\n",
            "[array([[0.],\n",
            "       [0.],\n",
            "       [0.],\n",
            "       [0.]], dtype=float32)]\n",
            "epoch:  2 mse:  0.25\n",
            "\n",
            "Resultado de Prueba\n",
            "[array([[0.],\n",
            "       [1.],\n",
            "       [0.],\n",
            "       [1.]], dtype=float32)]\n",
            "epoch:  3 mse:  0.25\n",
            "\n",
            "Resultado de Prueba\n",
            "[array([[0.],\n",
            "       [0.],\n",
            "       [0.],\n",
            "       [0.]], dtype=float32)]\n",
            "epoch:  4 mse:  0.25\n",
            "\n",
            "Resultado de Prueba\n",
            "[array([[0.],\n",
            "       [1.],\n",
            "       [1.],\n",
            "       [1.]], dtype=float32)]\n",
            "epoch:  5 mse:  0.5\n",
            "\n",
            "Resultado de Prueba\n",
            "[array([[0.],\n",
            "       [0.],\n",
            "       [0.],\n",
            "       [0.]], dtype=float32)]\n",
            "epoch:  6 mse:  0.25\n",
            "\n",
            "Resultado de Prueba\n",
            "[array([[0.],\n",
            "       [0.],\n",
            "       [0.],\n",
            "       [1.]], dtype=float32)]\n",
            "epoch:  7 mse:  0.0\n",
            "\n",
            "Resultado de Prueba\n",
            "[array([[0.],\n",
            "       [0.],\n",
            "       [0.],\n",
            "       [1.]], dtype=float32)]\n"
          ],
          "name": "stdout"
        }
      ]
    }
  ]
}